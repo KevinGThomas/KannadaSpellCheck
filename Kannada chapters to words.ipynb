{
 "cells": [
  {
   "cell_type": "code",
   "execution_count": 26,
   "metadata": {},
   "outputs": [],
   "source": [
    "import pandas as pd"
   ]
  },
  {
   "cell_type": "code",
   "execution_count": 20,
   "metadata": {},
   "outputs": [],
   "source": [
    "#Replace with Chapter text\n",
    "text = \"\"\"\n",
    "ಕೇಸರಿ ಹಸಿರು ಬಿಸ್ಕೇಟ್ ಬೇಡ\n",
    "ಚಾಕ್ಲೇಟ್ ಬೇಡ\n",
    "ಶಾಲೆಗೆ ಕಳಿಸಮ್ಮ\n",
    "ಶಾಲೆಗೆ ಹೋಗಿ\n",
    "ಚಿತ್ರವ ನೋಡಿ\n",
    "ಹೆಸರನು ಹೇಳುವೆನಮ್ಮ\n",
    "ಅಕ್ಷರ ಕಲಿಯುತ\n",
    "ಪದಗಳ ಓದುತ\n",
    "ಪಾಠವ ಓದುವೆನಮ್ಮ\n",
    "ಪದ್ಯವ ಕಲಿತು\n",
    "ರಾಗದಿ ಹಾಡಿ\n",
    "ಮೆಚ್ಚುಗೆ ಗಳಿಸುವೆನಮ್ಮ\n",
    "ಪಾಠವ ಓದಿ\n",
    "ಲೆಕ್ಕವ ಮಾಡಿ\n",
    "ಜಾಣನೆ ಆಗುವೆನಮ್ಮ\n",
    "ಪರಿಸರ ನೋಡುತ\n",
    "ತಿಳಿಯುತ\n",
    "ಮಾನವ ನಾನಾಗುವೆನಮ್ಮ\n",
    "ಶಾಲೆ ಎಂಬುದು\n",
    "ಸರಸ್ವತಿ ಮಂದಿರ\n",
    "ಅದುವೆ ಬೆಳಕಮ್ಮ\n",
    "ಈಗಲೇ ನಾನು\n",
    "ಶಾಲೆಗೆ ಹೋಗುವೆ\n",
    "ಬೇಗನೆ ನೀ ಕಳಿಸಮ್ಮ\n",
    "\"\"\""
   ]
  },
  {
   "cell_type": "code",
   "execution_count": 21,
   "metadata": {},
   "outputs": [],
   "source": [
    "punctuations = '''!()-[]{};:'\"\\,<>./?@#$%^&*_~'''\n",
    "for x in text.lower(): \n",
    "    if x in punctuations: \n",
    "        text = text.replace(x, \"\") "
   ]
  },
  {
   "cell_type": "code",
   "execution_count": 22,
   "metadata": {},
   "outputs": [
    {
     "name": "stdout",
     "output_type": "stream",
     "text": [
      "\n",
      "ಕೇಸರಿ ಹಸಿರು ಬಿಸ್ಕೇಟ್ ಬೇಡ\n",
      "ಚಾಕ್ಲೇಟ್ ಬೇಡ\n",
      "ಶಾಲೆಗೆ ಕಳಿಸಮ್ಮ\n",
      "ಶಾಲೆಗೆ ಹೋಗಿ\n",
      "ಚಿತ್ರವ ನೋಡಿ\n",
      "ಹೆಸರನು ಹೇಳುವೆನಮ್ಮ\n",
      "ಅಕ್ಷರ ಕಲಿಯುತ\n",
      "ಪದಗಳ ಓದುತ\n",
      "ಪಾಠವ ಓದುವೆನಮ್ಮ\n",
      "ಪದ್ಯವ ಕಲಿತು\n",
      "ರಾಗದಿ ಹಾಡಿ\n",
      "ಮೆಚ್ಚುಗೆ ಗಳಿಸುವೆನಮ್ಮ\n",
      "ಪಾಠವ ಓದಿ\n",
      "ಲೆಕ್ಕವ ಮಾಡಿ\n",
      "ಜಾಣನೆ ಆಗುವೆನಮ್ಮ\n",
      "ಪರಿಸರ ನೋಡುತ\n",
      "ತಿಳಿಯುತ\n",
      "ಮಾನವ ನಾನಾಗುವೆನಮ್ಮ\n",
      "ಶಾಲೆ ಎಂಬುದು\n",
      "ಸರಸ್ವತಿ ಮಂದಿರ\n",
      "ಅದುವೆ ಬೆಳಕಮ್ಮ\n",
      "ಈಗಲೇ ನಾನು\n",
      "ಶಾಲೆಗೆ ಹೋಗುವೆ\n",
      "ಬೇಗನೆ ನೀ ಕಳಿಸಮ್ಮ\n",
      "\n"
     ]
    }
   ],
   "source": [
    "print(text)"
   ]
  },
  {
   "cell_type": "code",
   "execution_count": 23,
   "metadata": {},
   "outputs": [],
   "source": [
    "text=text.split()"
   ]
  },
  {
   "cell_type": "code",
   "execution_count": 24,
   "metadata": {},
   "outputs": [
    {
     "name": "stdout",
     "output_type": "stream",
     "text": [
      "['ಕೇಸರಿ', 'ಹಸಿರು', 'ಬಿಸ್ಕೇಟ್', 'ಬೇಡ', 'ಚಾಕ್ಲೇಟ್', 'ಬೇಡ', 'ಶಾಲೆಗೆ', 'ಕಳಿಸಮ್ಮ', 'ಶಾಲೆಗೆ', 'ಹೋಗಿ', 'ಚಿತ್ರವ', 'ನೋಡಿ', 'ಹೆಸರನು', 'ಹೇಳುವೆನಮ್ಮ', 'ಅಕ್ಷರ', 'ಕಲಿಯುತ', 'ಪದಗಳ', 'ಓದುತ', 'ಪಾಠವ', 'ಓದುವೆನಮ್ಮ', 'ಪದ್ಯವ', 'ಕಲಿತು', 'ರಾಗದಿ', 'ಹಾಡಿ', 'ಮೆಚ್ಚುಗೆ', 'ಗಳಿಸುವೆನಮ್ಮ', 'ಪಾಠವ', 'ಓದಿ', 'ಲೆಕ್ಕವ', 'ಮಾಡಿ', 'ಜಾಣನೆ', 'ಆಗುವೆನಮ್ಮ', 'ಪರಿಸರ', 'ನೋಡುತ', 'ತಿಳಿಯುತ', 'ಮಾನವ', 'ನಾನಾಗುವೆನಮ್ಮ', 'ಶಾಲೆ', 'ಎಂಬುದು', 'ಸರಸ್ವತಿ', 'ಮಂದಿರ', 'ಅದುವೆ', 'ಬೆಳಕಮ್ಮ', 'ಈಗಲೇ', 'ನಾನು', 'ಶಾಲೆಗೆ', 'ಹೋಗುವೆ', 'ಬೇಗನೆ', 'ನೀ', 'ಕಳಿಸಮ್ಮ']\n"
     ]
    }
   ],
   "source": [
    "print(text)"
   ]
  },
  {
   "cell_type": "code",
   "execution_count": 30,
   "metadata": {},
   "outputs": [
    {
     "data": {
      "text/plain": [
       "50"
      ]
     },
     "execution_count": 30,
     "metadata": {},
     "output_type": "execute_result"
    }
   ],
   "source": [
    "len(text)"
   ]
  },
  {
   "cell_type": "code",
   "execution_count": 27,
   "metadata": {},
   "outputs": [],
   "source": [
    "df = pd.DataFrame(text, columns=[\"Kannada\"])"
   ]
  },
  {
   "cell_type": "code",
   "execution_count": 32,
   "metadata": {},
   "outputs": [
    {
     "data": {
      "text/html": [
       "<div>\n",
       "<style scoped>\n",
       "    .dataframe tbody tr th:only-of-type {\n",
       "        vertical-align: middle;\n",
       "    }\n",
       "\n",
       "    .dataframe tbody tr th {\n",
       "        vertical-align: top;\n",
       "    }\n",
       "\n",
       "    .dataframe thead th {\n",
       "        text-align: right;\n",
       "    }\n",
       "</style>\n",
       "<table border=\"1\" class=\"dataframe\">\n",
       "  <thead>\n",
       "    <tr style=\"text-align: right;\">\n",
       "      <th></th>\n",
       "      <th>Kannada</th>\n",
       "    </tr>\n",
       "  </thead>\n",
       "  <tbody>\n",
       "    <tr>\n",
       "      <th>0</th>\n",
       "      <td>ಕೇಸರಿ</td>\n",
       "    </tr>\n",
       "    <tr>\n",
       "      <th>1</th>\n",
       "      <td>ಹಸಿರು</td>\n",
       "    </tr>\n",
       "    <tr>\n",
       "      <th>2</th>\n",
       "      <td>ಬಿಸ್ಕೇಟ್</td>\n",
       "    </tr>\n",
       "    <tr>\n",
       "      <th>3</th>\n",
       "      <td>ಬೇಡ</td>\n",
       "    </tr>\n",
       "    <tr>\n",
       "      <th>4</th>\n",
       "      <td>ಚಾಕ್ಲೇಟ್</td>\n",
       "    </tr>\n",
       "    <tr>\n",
       "      <th>5</th>\n",
       "      <td>ಬೇಡ</td>\n",
       "    </tr>\n",
       "    <tr>\n",
       "      <th>6</th>\n",
       "      <td>ಶಾಲೆಗೆ</td>\n",
       "    </tr>\n",
       "    <tr>\n",
       "      <th>7</th>\n",
       "      <td>ಕಳಿಸಮ್ಮ</td>\n",
       "    </tr>\n",
       "    <tr>\n",
       "      <th>8</th>\n",
       "      <td>ಶಾಲೆಗೆ</td>\n",
       "    </tr>\n",
       "    <tr>\n",
       "      <th>9</th>\n",
       "      <td>ಹೋಗಿ</td>\n",
       "    </tr>\n",
       "    <tr>\n",
       "      <th>10</th>\n",
       "      <td>ಚಿತ್ರವ</td>\n",
       "    </tr>\n",
       "    <tr>\n",
       "      <th>11</th>\n",
       "      <td>ನೋಡಿ</td>\n",
       "    </tr>\n",
       "    <tr>\n",
       "      <th>12</th>\n",
       "      <td>ಹೆಸರನು</td>\n",
       "    </tr>\n",
       "    <tr>\n",
       "      <th>13</th>\n",
       "      <td>ಹೇಳುವೆನಮ್ಮ</td>\n",
       "    </tr>\n",
       "    <tr>\n",
       "      <th>14</th>\n",
       "      <td>ಅಕ್ಷರ</td>\n",
       "    </tr>\n",
       "    <tr>\n",
       "      <th>15</th>\n",
       "      <td>ಕಲಿಯುತ</td>\n",
       "    </tr>\n",
       "    <tr>\n",
       "      <th>16</th>\n",
       "      <td>ಪದಗಳ</td>\n",
       "    </tr>\n",
       "    <tr>\n",
       "      <th>17</th>\n",
       "      <td>ಓದುತ</td>\n",
       "    </tr>\n",
       "    <tr>\n",
       "      <th>18</th>\n",
       "      <td>ಪಾಠವ</td>\n",
       "    </tr>\n",
       "    <tr>\n",
       "      <th>19</th>\n",
       "      <td>ಓದುವೆನಮ್ಮ</td>\n",
       "    </tr>\n",
       "  </tbody>\n",
       "</table>\n",
       "</div>"
      ],
      "text/plain": [
       "       Kannada\n",
       "0        ಕೇಸರಿ\n",
       "1        ಹಸಿರು\n",
       "2     ಬಿಸ್ಕೇಟ್\n",
       "3          ಬೇಡ\n",
       "4     ಚಾಕ್ಲೇಟ್\n",
       "5          ಬೇಡ\n",
       "6       ಶಾಲೆಗೆ\n",
       "7      ಕಳಿಸಮ್ಮ\n",
       "8       ಶಾಲೆಗೆ\n",
       "9         ಹೋಗಿ\n",
       "10      ಚಿತ್ರವ\n",
       "11        ನೋಡಿ\n",
       "12      ಹೆಸರನು\n",
       "13  ಹೇಳುವೆನಮ್ಮ\n",
       "14       ಅಕ್ಷರ\n",
       "15      ಕಲಿಯುತ\n",
       "16        ಪದಗಳ\n",
       "17        ಓದುತ\n",
       "18        ಪಾಠವ\n",
       "19   ಓದುವೆನಮ್ಮ"
      ]
     },
     "execution_count": 32,
     "metadata": {},
     "output_type": "execute_result"
    }
   ],
   "source": [
    "df.head(20)"
   ]
  },
  {
   "cell_type": "code",
   "execution_count": 35,
   "metadata": {},
   "outputs": [],
   "source": [
    "df.to_csv('Chapter_6.csv',index=False) #Rename to chapter number"
   ]
  },
  {
   "cell_type": "code",
   "execution_count": null,
   "metadata": {},
   "outputs": [],
   "source": []
  }
 ],
 "metadata": {
  "kernelspec": {
   "display_name": "Python 3",
   "language": "python",
   "name": "python3"
  },
  "language_info": {
   "codemirror_mode": {
    "name": "ipython",
    "version": 3
   },
   "file_extension": ".py",
   "mimetype": "text/x-python",
   "name": "python",
   "nbconvert_exporter": "python",
   "pygments_lexer": "ipython3",
   "version": "3.7.1"
  }
 },
 "nbformat": 4,
 "nbformat_minor": 2
}
