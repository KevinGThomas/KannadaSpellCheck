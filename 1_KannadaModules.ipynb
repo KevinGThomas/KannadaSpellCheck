{
 "cells": [
  {
   "cell_type": "markdown",
   "metadata": {},
   "source": [
    "# Kannada Modules"
   ]
  },
  {
   "cell_type": "code",
   "execution_count": 1,
   "metadata": {},
   "outputs": [],
   "source": [
    "import pandas as pd\n",
    "from difflib import SequenceMatcher\n",
    "import speech_recognition as sr\n",
    "from gtts import gTTS\n",
    "from playsound import playsound"
   ]
  },
  {
   "cell_type": "code",
   "execution_count": 2,
   "metadata": {},
   "outputs": [],
   "source": [
    "df=pd.read_csv('dataset/chapter_1_freq_comp.csv')"
   ]
  },
  {
   "cell_type": "code",
   "execution_count": 3,
   "metadata": {},
   "outputs": [
    {
     "data": {
      "text/html": [
       "<div>\n",
       "<style scoped>\n",
       "    .dataframe tbody tr th:only-of-type {\n",
       "        vertical-align: middle;\n",
       "    }\n",
       "\n",
       "    .dataframe tbody tr th {\n",
       "        vertical-align: top;\n",
       "    }\n",
       "\n",
       "    .dataframe thead th {\n",
       "        text-align: right;\n",
       "    }\n",
       "</style>\n",
       "<table border=\"1\" class=\"dataframe\">\n",
       "  <thead>\n",
       "    <tr style=\"text-align: right;\">\n",
       "      <th></th>\n",
       "      <th>Kannada</th>\n",
       "      <th>in English</th>\n",
       "      <th>misspelled</th>\n",
       "      <th>Frequency</th>\n",
       "      <th>Complexity (1, 2, 3)</th>\n",
       "    </tr>\n",
       "  </thead>\n",
       "  <tbody>\n",
       "    <tr>\n",
       "      <th>0</th>\n",
       "      <td>ವಂದನೆ</td>\n",
       "      <td>Thanks</td>\n",
       "      <td>ವದನ</td>\n",
       "      <td>7</td>\n",
       "      <td>1</td>\n",
       "    </tr>\n",
       "    <tr>\n",
       "      <th>1</th>\n",
       "      <td>ತಾಯಿ</td>\n",
       "      <td>Mother</td>\n",
       "      <td>ತಯಿ</td>\n",
       "      <td>2</td>\n",
       "      <td>1</td>\n",
       "    </tr>\n",
       "    <tr>\n",
       "      <th>2</th>\n",
       "      <td>ಬುದ್ಧಿ</td>\n",
       "      <td>Wit</td>\n",
       "      <td>ಬದ್ಧ</td>\n",
       "      <td>2</td>\n",
       "      <td>1</td>\n",
       "    </tr>\n",
       "    <tr>\n",
       "      <th>3</th>\n",
       "      <td>ತೋರಿಸಿ</td>\n",
       "      <td>Show</td>\n",
       "      <td>ತೋರಿಸ</td>\n",
       "      <td>1</td>\n",
       "      <td>1</td>\n",
       "    </tr>\n",
       "    <tr>\n",
       "      <th>4</th>\n",
       "      <td>ಪಾಠ</td>\n",
       "      <td>Lesson</td>\n",
       "      <td>ಪಾಠ</td>\n",
       "      <td>1</td>\n",
       "      <td>1</td>\n",
       "    </tr>\n",
       "  </tbody>\n",
       "</table>\n",
       "</div>"
      ],
      "text/plain": [
       "  Kannada in English misspelled  Frequency  Complexity (1, 2, 3)\n",
       "0   ವಂದನೆ     Thanks        ವದನ          7                     1\n",
       "1    ತಾಯಿ     Mother        ತಯಿ          2                     1\n",
       "2  ಬುದ್ಧಿ        Wit       ಬದ್ಧ          2                     1\n",
       "3  ತೋರಿಸಿ       Show      ತೋರಿಸ          1                     1\n",
       "4     ಪಾಠ     Lesson        ಪಾಠ          1                     1"
      ]
     },
     "execution_count": 3,
     "metadata": {},
     "output_type": "execute_result"
    }
   ],
   "source": [
    "df.head()"
   ]
  },
  {
   "cell_type": "code",
   "execution_count": 4,
   "metadata": {},
   "outputs": [],
   "source": [
    "kan_l = list(df['Kannada'])"
   ]
  },
  {
   "cell_type": "code",
   "execution_count": 5,
   "metadata": {},
   "outputs": [
    {
     "name": "stdout",
     "output_type": "stream",
     "text": [
      "['ವಂದನೆ', 'ತಾಯಿ', 'ಬುದ್ಧಿ', 'ತೋರಿಸಿ', 'ಪಾಠ', 'ಚಿತ್ರ', 'ಪದ', 'ತಂದೆ', 'ಕವಿ', 'ಬಗೆ', 'ವಿದ್ಯಾ', 'ಬಾಲ್ಯ', 'ಗುರು', 'ರೋಗ', 'ನಿತ್ಯ', 'ದುಡಿ', 'ನನ್ನನು', 'ದುಡಿದು', 'ಮಾಡುವೆ', 'ನಿತ್ಯದಿ', 'ವೈದ್ಯೆ', 'ಪದ್ಯ', 'ಕಂಬಾರ', 'ನವಮಾಸ', 'ಹೆತ್ತು', 'ತಾಯಿಗೆ', 'ತಂದೆಗೆ', 'ವಾಸಿ', 'ವೈದ್ಯೆಗೆ', 'ಕಲಿಸಿ', 'ಹರಸಿದ', 'ಅನ್ನವ', 'ನೀಡುವ', 'ರೈತಗೆ', 'ನಾಡಿನ', 'ಮಾಡುತೆ', 'ಕೀಳಿದ', 'ದ್ದುಡಿ', 'ರೈತ', 'ಮಾಸ', 'ಸಲಹು', 'ಹೊತ್ತು', 'ಮಾಡುವ', 'ಹೇಳಿಸಿ', 'ಪೂರ್ವ', 'ಚಟುವಟಿಕೆ', 'ಸೈನಿಕ', 'ಸಾಕಿದ', 'ಮೈಮುರಿ', 'ಸಲುಹಿ', 'ಬೆಳಸಿದ', 'ರೋಗವ', 'ಬಾಲ್ಯಾದಿ', 'ಗುರುವಿಗೆ', 'ರಕ್ಷಣೆ', 'ಯೋಧಗೆ', 'ಪದಗಳು', 'ಪದಗಳ', 'ತಿಂಗಳು', 'ಪ್ರತಿದಿನ']\n"
     ]
    }
   ],
   "source": [
    "print(kan_l)"
   ]
  },
  {
   "cell_type": "code",
   "execution_count": 6,
   "metadata": {},
   "outputs": [],
   "source": [
    "def similar(a, b):\n",
    "    return SequenceMatcher(None, a, b).ratio()"
   ]
  },
  {
   "cell_type": "code",
   "execution_count": 7,
   "metadata": {},
   "outputs": [],
   "source": [
    "def listen_and_speak(word):\n",
    "    #TODO\n",
    "    l='kn'\n",
    "    t=gTTS(text=word,lang=l,slow=True)\n",
    "    t.save('test.mp3')\n",
    "    playsound('test.mp3')\n",
    "    flag=True\n",
    "    while(flag==True):\n",
    "        r = sr.Recognizer()\n",
    "\n",
    "        with sr.Microphone() as source:\n",
    "            r.adjust_for_ambient_noise(source)\n",
    "            print('Say Something:')\n",
    "            audio = r.listen(source)\n",
    "            print ('Done!')\n",
    "\n",
    "        text = r.recognize_google(audio, language = 'kn-IN')\n",
    "\n",
    "        print (text)\n",
    "        \n",
    "        print(similar(text,word))\n",
    "        \n",
    "        if(similar(text,word)>0.9):\n",
    "            print(\"Success!\")\n",
    "            flag=False"
   ]
  },
  {
   "cell_type": "code",
   "execution_count": 8,
   "metadata": {},
   "outputs": [],
   "source": [
    "def read_and_speak(word):\n",
    "    #TODO\n",
    "    print()\n",
    "    print(word)\n",
    "    print(\"Please say the above word\")\n",
    "    flag=True\n",
    "    while(flag==True):\n",
    "        r = sr.Recognizer()\n",
    "\n",
    "        with sr.Microphone() as source:\n",
    "            r.adjust_for_ambient_noise(source)\n",
    "            print('Say Something:')\n",
    "            audio = r.listen(source)\n",
    "            print ('Done!')\n",
    "\n",
    "        text = r.recognize_google(audio, language = 'kn-IN')\n",
    "\n",
    "        print (text)\n",
    "        if(text==word):\n",
    "                print(\"Success!\")\n",
    "                flag=False"
   ]
  },
  {
   "cell_type": "code",
   "execution_count": 9,
   "metadata": {},
   "outputs": [],
   "source": [
    "def read_and_write(word):\n",
    "    #TODO\n",
    "    pass"
   ]
  },
  {
   "cell_type": "code",
   "execution_count": 10,
   "metadata": {},
   "outputs": [],
   "source": [
    "def listen_and_write(word):\n",
    "    #TODO\n",
    "    pass"
   ]
  },
  {
   "cell_type": "code",
   "execution_count": 11,
   "metadata": {},
   "outputs": [
    {
     "name": "stdout",
     "output_type": "stream",
     "text": [
      "Say Something:\n",
      "Done!\n",
      "ವಂದನಾ\n",
      "0.8\n",
      "Say Something:\n",
      "Done!\n",
      "ಭಾರತ ವದನೆ\n",
      "0.5714285714285714\n",
      "Say Something:\n",
      "Done!\n",
      "ವದನೆ\n",
      "0.8888888888888888\n",
      "Say Something:\n",
      "Done!\n",
      "ವಂದನೆ\n",
      "1.0\n",
      "Success!\n",
      "\n",
      "ವಂದನೆ\n",
      "Please say the above word\n",
      "Say Something:\n",
      "Done!\n",
      "ವಂದನೆ\n",
      "Success!\n"
     ]
    }
   ],
   "source": [
    "for word in kan_l:\n",
    "    listen_and_speak(word)\n",
    "    read_and_speak(word)\n",
    "    read_and_write(word)\n",
    "    listen_and_write(word)\n",
    "    break"
   ]
  },
  {
   "cell_type": "code",
   "execution_count": null,
   "metadata": {},
   "outputs": [],
   "source": []
  },
  {
   "cell_type": "code",
   "execution_count": null,
   "metadata": {},
   "outputs": [],
   "source": []
  },
  {
   "cell_type": "code",
   "execution_count": null,
   "metadata": {},
   "outputs": [],
   "source": []
  },
  {
   "cell_type": "code",
   "execution_count": null,
   "metadata": {},
   "outputs": [],
   "source": []
  },
  {
   "cell_type": "code",
   "execution_count": null,
   "metadata": {},
   "outputs": [],
   "source": []
  },
  {
   "cell_type": "code",
   "execution_count": null,
   "metadata": {},
   "outputs": [],
   "source": []
  },
  {
   "cell_type": "code",
   "execution_count": null,
   "metadata": {},
   "outputs": [],
   "source": []
  },
  {
   "cell_type": "code",
   "execution_count": null,
   "metadata": {},
   "outputs": [],
   "source": []
  },
  {
   "cell_type": "code",
   "execution_count": null,
   "metadata": {},
   "outputs": [],
   "source": []
  },
  {
   "cell_type": "code",
   "execution_count": null,
   "metadata": {},
   "outputs": [],
   "source": []
  }
 ],
 "metadata": {
  "kernelspec": {
   "display_name": "Python 3",
   "language": "python",
   "name": "python3"
  },
  "language_info": {
   "codemirror_mode": {
    "name": "ipython",
    "version": 3
   },
   "file_extension": ".py",
   "mimetype": "text/x-python",
   "name": "python",
   "nbconvert_exporter": "python",
   "pygments_lexer": "ipython3",
   "version": "3.7.1"
  }
 },
 "nbformat": 4,
 "nbformat_minor": 2
}
