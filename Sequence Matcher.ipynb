{
 "cells": [
  {
   "cell_type": "markdown",
   "metadata": {},
   "source": [
    "# SequenceMatcher"
   ]
  },
  {
   "cell_type": "code",
   "execution_count": 1,
   "metadata": {},
   "outputs": [],
   "source": [
    "import pandas as pd\n",
    "from difflib import SequenceMatcher"
   ]
  },
  {
   "cell_type": "code",
   "execution_count": 2,
   "metadata": {},
   "outputs": [],
   "source": [
    "df = pd.read_csv(\"dataset/kannada_misspelled_1000.csv\")"
   ]
  },
  {
   "cell_type": "code",
   "execution_count": 3,
   "metadata": {},
   "outputs": [
    {
     "data": {
      "text/html": [
       "<div>\n",
       "<style scoped>\n",
       "    .dataframe tbody tr th:only-of-type {\n",
       "        vertical-align: middle;\n",
       "    }\n",
       "\n",
       "    .dataframe tbody tr th {\n",
       "        vertical-align: top;\n",
       "    }\n",
       "\n",
       "    .dataframe thead th {\n",
       "        text-align: right;\n",
       "    }\n",
       "</style>\n",
       "<table border=\"1\" class=\"dataframe\">\n",
       "  <thead>\n",
       "    <tr style=\"text-align: right;\">\n",
       "      <th></th>\n",
       "      <th>Number</th>\n",
       "      <th>Kannada</th>\n",
       "      <th>in English</th>\n",
       "      <th>Mispelled Kannada</th>\n",
       "    </tr>\n",
       "  </thead>\n",
       "  <tbody>\n",
       "    <tr>\n",
       "      <th>980</th>\n",
       "      <td>981</td>\n",
       "      <td>ಅಂಗಡಿ</td>\n",
       "      <td>shop</td>\n",
       "      <td>ಅಂಗಡ</td>\n",
       "    </tr>\n",
       "    <tr>\n",
       "      <th>981</th>\n",
       "      <td>982</td>\n",
       "      <td>ಏರಿಕೆಯ</td>\n",
       "      <td>stretch</td>\n",
       "      <td>ಏರಿಕೆ</td>\n",
       "    </tr>\n",
       "    <tr>\n",
       "      <th>982</th>\n",
       "      <td>983</td>\n",
       "      <td>ಎಸೆಯಲು</td>\n",
       "      <td>throw</td>\n",
       "      <td>ಎಸೆಯಲುಾ</td>\n",
       "    </tr>\n",
       "    <tr>\n",
       "      <th>983</th>\n",
       "      <td>984</td>\n",
       "      <td>ಶೈನ್</td>\n",
       "      <td>shine</td>\n",
       "      <td>ಶೈನ್ಾ</td>\n",
       "    </tr>\n",
       "    <tr>\n",
       "      <th>984</th>\n",
       "      <td>985</td>\n",
       "      <td>ಆಸ್ತಿ</td>\n",
       "      <td>property</td>\n",
       "      <td>ಆಸ್ತಿಾ</td>\n",
       "    </tr>\n",
       "    <tr>\n",
       "      <th>985</th>\n",
       "      <td>986</td>\n",
       "      <td>ಕಾಲಮ್</td>\n",
       "      <td>column</td>\n",
       "      <td>ಕಾಲಮ್ಾ</td>\n",
       "    </tr>\n",
       "    <tr>\n",
       "      <th>986</th>\n",
       "      <td>987</td>\n",
       "      <td>ಅಣು</td>\n",
       "      <td>molecule</td>\n",
       "      <td>ಅಣ</td>\n",
       "    </tr>\n",
       "    <tr>\n",
       "      <th>987</th>\n",
       "      <td>988</td>\n",
       "      <td>ಆಯ್ಕೆ</td>\n",
       "      <td>select</td>\n",
       "      <td>ಆಯ್ಕ</td>\n",
       "    </tr>\n",
       "    <tr>\n",
       "      <th>988</th>\n",
       "      <td>989</td>\n",
       "      <td>ತಪ್ಪು</td>\n",
       "      <td>wrong</td>\n",
       "      <td>ತಪ್ಪ</td>\n",
       "    </tr>\n",
       "    <tr>\n",
       "      <th>989</th>\n",
       "      <td>990</td>\n",
       "      <td>ಬೂದು</td>\n",
       "      <td>gray</td>\n",
       "      <td>ಬೂದ</td>\n",
       "    </tr>\n",
       "    <tr>\n",
       "      <th>990</th>\n",
       "      <td>991</td>\n",
       "      <td>ಮತ್ತೆ</td>\n",
       "      <td>repeat</td>\n",
       "      <td>ಮತ್ತ</td>\n",
       "    </tr>\n",
       "    <tr>\n",
       "      <th>991</th>\n",
       "      <td>992</td>\n",
       "      <td>ಅಗತ್ಯವಿರುತ್ತದೆ</td>\n",
       "      <td>require</td>\n",
       "      <td>ಅಗತ್ಯವಿರುತ್ತದೆಾ</td>\n",
       "    </tr>\n",
       "    <tr>\n",
       "      <th>992</th>\n",
       "      <td>993</td>\n",
       "      <td>ವಿಶಾಲ</td>\n",
       "      <td>broad</td>\n",
       "      <td>ವಿಶಾ</td>\n",
       "    </tr>\n",
       "    <tr>\n",
       "      <th>993</th>\n",
       "      <td>994</td>\n",
       "      <td>ತಯಾರು</td>\n",
       "      <td>prepare</td>\n",
       "      <td>ತಯಾರ</td>\n",
       "    </tr>\n",
       "    <tr>\n",
       "      <th>994</th>\n",
       "      <td>995</td>\n",
       "      <td>ಉಪ್ಪು</td>\n",
       "      <td>salt</td>\n",
       "      <td>ಉಪ್ಪ</td>\n",
       "    </tr>\n",
       "    <tr>\n",
       "      <th>995</th>\n",
       "      <td>996</td>\n",
       "      <td>ಮೂಗು</td>\n",
       "      <td>nose</td>\n",
       "      <td>ಮೂಗ</td>\n",
       "    </tr>\n",
       "    <tr>\n",
       "      <th>996</th>\n",
       "      <td>997</td>\n",
       "      <td>ಬಹುವಚನ</td>\n",
       "      <td>plural</td>\n",
       "      <td>ಬಹುವಚ</td>\n",
       "    </tr>\n",
       "    <tr>\n",
       "      <th>997</th>\n",
       "      <td>998</td>\n",
       "      <td>ಕೋಪ</td>\n",
       "      <td>anger</td>\n",
       "      <td>ಕೋ</td>\n",
       "    </tr>\n",
       "    <tr>\n",
       "      <th>998</th>\n",
       "      <td>999</td>\n",
       "      <td>ಹಕ್ಕು</td>\n",
       "      <td>claim</td>\n",
       "      <td>ಹಕ್ಕ</td>\n",
       "    </tr>\n",
       "    <tr>\n",
       "      <th>999</th>\n",
       "      <td>1000</td>\n",
       "      <td>ಖಂಡದ</td>\n",
       "      <td>continent</td>\n",
       "      <td>ಖಂಡ</td>\n",
       "    </tr>\n",
       "  </tbody>\n",
       "</table>\n",
       "</div>"
      ],
      "text/plain": [
       "     Number         Kannada in English Mispelled Kannada\n",
       "980     981           ಅಂಗಡಿ       shop              ಅಂಗಡ\n",
       "981     982          ಏರಿಕೆಯ    stretch             ಏರಿಕೆ\n",
       "982     983          ಎಸೆಯಲು      throw           ಎಸೆಯಲುಾ\n",
       "983     984            ಶೈನ್      shine             ಶೈನ್ಾ\n",
       "984     985           ಆಸ್ತಿ   property            ಆಸ್ತಿಾ\n",
       "985     986           ಕಾಲಮ್     column            ಕಾಲಮ್ಾ\n",
       "986     987             ಅಣು   molecule                ಅಣ\n",
       "987     988           ಆಯ್ಕೆ     select              ಆಯ್ಕ\n",
       "988     989           ತಪ್ಪು      wrong              ತಪ್ಪ\n",
       "989     990            ಬೂದು       gray               ಬೂದ\n",
       "990     991           ಮತ್ತೆ     repeat              ಮತ್ತ\n",
       "991     992  ಅಗತ್ಯವಿರುತ್ತದೆ    require   ಅಗತ್ಯವಿರುತ್ತದೆಾ\n",
       "992     993           ವಿಶಾಲ      broad              ವಿಶಾ\n",
       "993     994           ತಯಾರು    prepare              ತಯಾರ\n",
       "994     995           ಉಪ್ಪು       salt              ಉಪ್ಪ\n",
       "995     996            ಮೂಗು       nose               ಮೂಗ\n",
       "996     997          ಬಹುವಚನ     plural             ಬಹುವಚ\n",
       "997     998             ಕೋಪ      anger                ಕೋ\n",
       "998     999           ಹಕ್ಕು      claim              ಹಕ್ಕ\n",
       "999    1000            ಖಂಡದ  continent               ಖಂಡ"
      ]
     },
     "execution_count": 3,
     "metadata": {},
     "output_type": "execute_result"
    }
   ],
   "source": [
    "df.tail(20)"
   ]
  },
  {
   "cell_type": "code",
   "execution_count": 4,
   "metadata": {},
   "outputs": [
    {
     "data": {
      "text/plain": [
       "Number               1000\n",
       "Kannada              1000\n",
       "in English           1000\n",
       "Mispelled Kannada    1000\n",
       "dtype: int64"
      ]
     },
     "execution_count": 4,
     "metadata": {},
     "output_type": "execute_result"
    }
   ],
   "source": [
    "df.count()"
   ]
  },
  {
   "cell_type": "code",
   "execution_count": 5,
   "metadata": {},
   "outputs": [],
   "source": [
    "def similar(a, b):\n",
    "    return SequenceMatcher(None, a, b).ratio()"
   ]
  },
  {
   "cell_type": "code",
   "execution_count": 6,
   "metadata": {},
   "outputs": [
    {
     "name": "stdout",
     "output_type": "stream",
     "text": [
      "enter the word :\n"
     ]
    }
   ],
   "source": [
    "userinput=input(\"enter the word :\")"
   ]
  },
  {
   "cell_type": "code",
   "execution_count": 7,
   "metadata": {},
   "outputs": [],
   "source": [
    "s=[]\n",
    "for i in range(len(df)):\n",
    "    s.append(similar(df.loc[i,'Kannada'],userinput))"
   ]
  },
  {
   "cell_type": "code",
   "execution_count": 8,
   "metadata": {},
   "outputs": [
    {
     "name": "stdout",
     "output_type": "stream",
     "text": [
      "0\n"
     ]
    }
   ],
   "source": [
    "print(s.index(max(s)))"
   ]
  },
  {
   "cell_type": "code",
   "execution_count": 9,
   "metadata": {},
   "outputs": [
    {
     "name": "stdout",
     "output_type": "stream",
     "text": [
      "correct spelling is :ಮಾಹಿತಿ\n"
     ]
    }
   ],
   "source": [
    "print(\"correct spelling is :\"+df.loc[s.index(max(s)),'Kannada'])"
   ]
  },
  {
   "cell_type": "code",
   "execution_count": 10,
   "metadata": {},
   "outputs": [],
   "source": [
    "arr_kan = df['Mispelled Kannada']"
   ]
  },
  {
   "cell_type": "code",
   "execution_count": 11,
   "metadata": {},
   "outputs": [],
   "source": [
    "lens =[]"
   ]
  },
  {
   "cell_type": "code",
   "execution_count": 12,
   "metadata": {},
   "outputs": [],
   "source": [
    "for j in arr_kan:\n",
    "    s=[]\n",
    "    for i in range(len(df)):\n",
    "        s.append(similar(df.loc[i,'Kannada'],j))\n",
    "    lens.append(s.index(max(s)))"
   ]
  },
  {
   "cell_type": "code",
   "execution_count": 14,
   "metadata": {},
   "outputs": [
    {
     "name": "stdout",
     "output_type": "stream",
     "text": [
      "100\n"
     ]
    }
   ],
   "source": [
    "print(lens[100])"
   ]
  },
  {
   "cell_type": "code",
   "execution_count": 18,
   "metadata": {},
   "outputs": [],
   "source": [
    "count = 0"
   ]
  },
  {
   "cell_type": "code",
   "execution_count": 20,
   "metadata": {},
   "outputs": [],
   "source": [
    "for i in range(1000):\n",
    "    if((df.loc[i,'Kannada'])==(df.loc[lens[i],'Kannada'])):\n",
    "        count=count+1"
   ]
  },
  {
   "cell_type": "code",
   "execution_count": 27,
   "metadata": {},
   "outputs": [
    {
     "name": "stdout",
     "output_type": "stream",
     "text": [
      "Accuracy = 86.8 %\n"
     ]
    }
   ],
   "source": [
    "print(\"Accuracy =\",count*100/1000,\"%\")"
   ]
  },
  {
   "cell_type": "code",
   "execution_count": null,
   "metadata": {},
   "outputs": [],
   "source": []
  }
 ],
 "metadata": {
  "kernelspec": {
   "display_name": "Python 3",
   "language": "python",
   "name": "python3"
  },
  "language_info": {
   "codemirror_mode": {
    "name": "ipython",
    "version": 3
   },
   "file_extension": ".py",
   "mimetype": "text/x-python",
   "name": "python",
   "nbconvert_exporter": "python",
   "pygments_lexer": "ipython3",
   "version": "3.7.1"
  }
 },
 "nbformat": 4,
 "nbformat_minor": 2
}
